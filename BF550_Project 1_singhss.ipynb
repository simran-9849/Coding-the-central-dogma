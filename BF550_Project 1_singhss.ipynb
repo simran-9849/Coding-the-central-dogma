{
 "cells": [
  {
   "cell_type": "markdown",
   "id": "a6c22f62-b050-41b7-bf9e-9019761b83b1",
   "metadata": {},
   "source": [
    "# Task 1: Coding the Central Dogma"
   ]
  },
  {
   "cell_type": "markdown",
   "id": "97c7d7a0-752a-4b05-882b-ced5ac118b70",
   "metadata": {},
   "source": [
    "## 1.1 Write a function that finds the complementary sequence of a given DNA sequence"
   ]
  },
  {
   "cell_type": "code",
   "execution_count": 1,
   "id": "8a9c855c-398b-4cac-8ab3-603fc8a7f3f3",
   "metadata": {},
   "outputs": [],
   "source": [
    "def dna_complementary (dna_seq, direction='same'): #defining function by providing providing arguments dna_seq and direction\n",
    "    \n",
    "    if type(dna_seq)!= str:\n",
    "        raise ValueError('Sequence is non-canonical') #ValueError for non-canonical inputs\n",
    "        \n",
    "    base_pairs = {'A': 'T', 'T': 'A', 'G': 'C', 'C': 'G'} #creating dictionary for complementary base pairs\n",
    "    \n",
    "    dna_seq = dna_seq.upper() # Converting the DNA sequence to uppercase\n",
    "    \n",
    "    c_dna= [] \n",
    "    \n",
    "    for base in dna_seq: #checking for non-canonical errors\n",
    "        if base not in base_pairs:\n",
    "            raise ValueError(f\"Non-canonical base found: {base}. DNA sequence should only contain A, T, C, or G.\")\n",
    "        else:\n",
    "            c_dna.append(base_pairs[base])\n",
    "    \n",
    "    if direction== 'same':\n",
    "        return ''.join([str(elem) for elem in c_dna])\n",
    "    elif direction== 'reverse':\n",
    "        return ''.join([str(elem) for elem in c_dna])[::-1]\n",
    "    else:\n",
    "        raise ValueError('Direction should be either same or reverse')\n",
    "    \n",
    "    pass"
   ]
  },
  {
   "cell_type": "code",
   "execution_count": 3,
   "id": "42756dea",
   "metadata": {},
   "outputs": [
    {
     "data": {
      "text/plain": [
       "'TAGGCTTACGG'"
      ]
     },
     "execution_count": 3,
     "metadata": {},
     "output_type": "execute_result"
    }
   ],
   "source": [
    "dna_complementary('atccgaatgcc', direction= 'same')"
   ]
  },
  {
   "cell_type": "code",
   "execution_count": 4,
   "id": "c2bee8bc",
   "metadata": {},
   "outputs": [
    {
     "data": {
      "text/plain": [
       "'GGCATTCGGAT'"
      ]
     },
     "execution_count": 4,
     "metadata": {},
     "output_type": "execute_result"
    }
   ],
   "source": [
    "dna_complementary('atccgaatgcc', direction= 'reverse')"
   ]
  },
  {
   "cell_type": "code",
   "execution_count": 2,
   "id": "e1d8d638",
   "metadata": {},
   "outputs": [
    {
     "data": {
      "text/plain": [
       "'GGCATTCGGAT'"
      ]
     },
     "execution_count": 2,
     "metadata": {},
     "output_type": "execute_result"
    }
   ],
   "source": [
    "dna_complementary('ccgtaagccta', direction= 'same')"
   ]
  },
  {
   "cell_type": "code",
   "execution_count": 5,
   "id": "3478d417",
   "metadata": {},
   "outputs": [
    {
     "ename": "ValueError",
     "evalue": "Non-canonical base found: $. DNA sequence should only contain A, T, C, or G.",
     "output_type": "error",
     "traceback": [
      "\u001b[1;31m---------------------------------------------------------------------------\u001b[0m",
      "\u001b[1;31mValueError\u001b[0m                                Traceback (most recent call last)",
      "Cell \u001b[1;32mIn[5], line 1\u001b[0m\n\u001b[1;32m----> 1\u001b[0m dna_complementary(\u001b[38;5;124m'\u001b[39m\u001b[38;5;124matccgaatg$#@cc\u001b[39m\u001b[38;5;124m'\u001b[39m, direction\u001b[38;5;241m=\u001b[39m \u001b[38;5;124m'\u001b[39m\u001b[38;5;124mreverse\u001b[39m\u001b[38;5;124m'\u001b[39m)\n",
      "Cell \u001b[1;32mIn[2], line 14\u001b[0m, in \u001b[0;36mdna_complementary\u001b[1;34m(dna_seq, direction)\u001b[0m\n\u001b[0;32m     12\u001b[0m \u001b[38;5;28;01mfor\u001b[39;00m base \u001b[38;5;129;01min\u001b[39;00m dna_seq: \u001b[38;5;66;03m#checking for non-canonical errors\u001b[39;00m\n\u001b[0;32m     13\u001b[0m     \u001b[38;5;28;01mif\u001b[39;00m base \u001b[38;5;129;01mnot\u001b[39;00m \u001b[38;5;129;01min\u001b[39;00m base_pairs:\n\u001b[1;32m---> 14\u001b[0m         \u001b[38;5;28;01mraise\u001b[39;00m \u001b[38;5;167;01mValueError\u001b[39;00m(\u001b[38;5;124mf\u001b[39m\u001b[38;5;124m\"\u001b[39m\u001b[38;5;124mNon-canonical base found: \u001b[39m\u001b[38;5;132;01m{\u001b[39;00mbase\u001b[38;5;132;01m}\u001b[39;00m\u001b[38;5;124m. DNA sequence should only contain A, T, C, or G.\u001b[39m\u001b[38;5;124m\"\u001b[39m)\n\u001b[0;32m     15\u001b[0m     \u001b[38;5;28;01melse\u001b[39;00m:\n\u001b[0;32m     16\u001b[0m         c_dna\u001b[38;5;241m.\u001b[39mappend(base_pairs[base])\n",
      "\u001b[1;31mValueError\u001b[0m: Non-canonical base found: $. DNA sequence should only contain A, T, C, or G."
     ]
    }
   ],
   "source": [
    "dna_complementary('atccgaatg$#@cc', direction= 'reverse')"
   ]
  },
  {
   "cell_type": "code",
   "execution_count": null,
   "id": "a7f26fe0",
   "metadata": {},
   "outputs": [],
   "source": [
    "dna_complementary('atccgaatg87cc', direction= 'reverse')"
   ]
  },
  {
   "cell_type": "code",
   "execution_count": null,
   "id": "ccb581f9",
   "metadata": {},
   "outputs": [],
   "source": [
    "dna_complementary('atccgaatgcc', direction= 'p')"
   ]
  },
  {
   "cell_type": "markdown",
   "id": "49a0f4d0-572d-4f77-89a3-2d389dad013d",
   "metadata": {},
   "source": [
    "## 1.2 Write a function that finds the RNA sequence of a given DNA sequence"
   ]
  },
  {
   "cell_type": "code",
   "execution_count": 28,
   "id": "3346a800-43b5-41a0-af2e-b812c6c7df42",
   "metadata": {},
   "outputs": [],
   "source": [
    "def dna_rna(dna_seq):\n",
    "    if type(dna_seq)!= str:\n",
    "        raise ValueError('Sequence is non-canonical')\n",
    "    \n",
    "    dna_seq= dna_seq.upper()\n",
    "    \n",
    "    for base in dna_seq:\n",
    "        if base not in ['A', 'T', 'G', 'C', 'U']:\n",
    "            raise ValueError('Sequence is non-canonical')\n",
    "        \n",
    "    if 'U' in dna_seq:\n",
    "        raise ValueError('Sequence is already an RNA sequence')\n",
    "        print(dna_seq)\n",
    "    \n",
    "    else:\n",
    "        return dna_seq.replace('T', 'U') "
   ]
  },
  {
   "cell_type": "code",
   "execution_count": 29,
   "id": "be702e52",
   "metadata": {},
   "outputs": [
    {
     "data": {
      "text/plain": [
       "'AUGCAAUUCCGGA'"
      ]
     },
     "execution_count": 29,
     "metadata": {},
     "output_type": "execute_result"
    }
   ],
   "source": [
    "dna_rna('atgcaattccgga')"
   ]
  },
  {
   "cell_type": "code",
   "execution_count": 30,
   "id": "581e2fa1",
   "metadata": {},
   "outputs": [
    {
     "ename": "ValueError",
     "evalue": "Sequence is non-canonical",
     "output_type": "error",
     "traceback": [
      "\u001b[1;31m---------------------------------------------------------------------------\u001b[0m",
      "\u001b[1;31mValueError\u001b[0m                                Traceback (most recent call last)",
      "Cell \u001b[1;32mIn[30], line 1\u001b[0m\n\u001b[1;32m----> 1\u001b[0m dna_rna(\u001b[38;5;124m'\u001b[39m\u001b[38;5;124matgcaatt855cgga\u001b[39m\u001b[38;5;124m'\u001b[39m)\n",
      "Cell \u001b[1;32mIn[28], line 9\u001b[0m, in \u001b[0;36mdna_rna\u001b[1;34m(dna_seq)\u001b[0m\n\u001b[0;32m      7\u001b[0m \u001b[38;5;28;01mfor\u001b[39;00m base \u001b[38;5;129;01min\u001b[39;00m dna_seq:\n\u001b[0;32m      8\u001b[0m     \u001b[38;5;28;01mif\u001b[39;00m base \u001b[38;5;129;01mnot\u001b[39;00m \u001b[38;5;129;01min\u001b[39;00m [\u001b[38;5;124m'\u001b[39m\u001b[38;5;124mA\u001b[39m\u001b[38;5;124m'\u001b[39m, \u001b[38;5;124m'\u001b[39m\u001b[38;5;124mT\u001b[39m\u001b[38;5;124m'\u001b[39m, \u001b[38;5;124m'\u001b[39m\u001b[38;5;124mG\u001b[39m\u001b[38;5;124m'\u001b[39m, \u001b[38;5;124m'\u001b[39m\u001b[38;5;124mC\u001b[39m\u001b[38;5;124m'\u001b[39m, \u001b[38;5;124m'\u001b[39m\u001b[38;5;124mU\u001b[39m\u001b[38;5;124m'\u001b[39m]:\n\u001b[1;32m----> 9\u001b[0m         \u001b[38;5;28;01mraise\u001b[39;00m \u001b[38;5;167;01mValueError\u001b[39;00m(\u001b[38;5;124m'\u001b[39m\u001b[38;5;124mSequence is non-canonical\u001b[39m\u001b[38;5;124m'\u001b[39m)\n\u001b[0;32m     11\u001b[0m \u001b[38;5;28;01mif\u001b[39;00m \u001b[38;5;124m'\u001b[39m\u001b[38;5;124mU\u001b[39m\u001b[38;5;124m'\u001b[39m \u001b[38;5;129;01min\u001b[39;00m dna_seq:\n\u001b[0;32m     12\u001b[0m     \u001b[38;5;28;01mraise\u001b[39;00m \u001b[38;5;167;01mValueError\u001b[39;00m(\u001b[38;5;124m'\u001b[39m\u001b[38;5;124mSequence is already an RNA sequence\u001b[39m\u001b[38;5;124m'\u001b[39m)\n",
      "\u001b[1;31mValueError\u001b[0m: Sequence is non-canonical"
     ]
    }
   ],
   "source": [
    "dna_rna('atgcaatt855cgga')"
   ]
  },
  {
   "cell_type": "code",
   "execution_count": 31,
   "id": "1a57fbd3",
   "metadata": {},
   "outputs": [
    {
     "ename": "ValueError",
     "evalue": "Sequence is non-canonical",
     "output_type": "error",
     "traceback": [
      "\u001b[1;31m---------------------------------------------------------------------------\u001b[0m",
      "\u001b[1;31mValueError\u001b[0m                                Traceback (most recent call last)",
      "Cell \u001b[1;32mIn[31], line 1\u001b[0m\n\u001b[1;32m----> 1\u001b[0m dna_rna(\u001b[38;5;124m'\u001b[39m\u001b[38;5;124matgcaa#$\u001b[39m\u001b[38;5;132;01m%c\u001b[39;00m\u001b[38;5;124mcgga\u001b[39m\u001b[38;5;124m'\u001b[39m)\n",
      "Cell \u001b[1;32mIn[28], line 9\u001b[0m, in \u001b[0;36mdna_rna\u001b[1;34m(dna_seq)\u001b[0m\n\u001b[0;32m      7\u001b[0m \u001b[38;5;28;01mfor\u001b[39;00m base \u001b[38;5;129;01min\u001b[39;00m dna_seq:\n\u001b[0;32m      8\u001b[0m     \u001b[38;5;28;01mif\u001b[39;00m base \u001b[38;5;129;01mnot\u001b[39;00m \u001b[38;5;129;01min\u001b[39;00m [\u001b[38;5;124m'\u001b[39m\u001b[38;5;124mA\u001b[39m\u001b[38;5;124m'\u001b[39m, \u001b[38;5;124m'\u001b[39m\u001b[38;5;124mT\u001b[39m\u001b[38;5;124m'\u001b[39m, \u001b[38;5;124m'\u001b[39m\u001b[38;5;124mG\u001b[39m\u001b[38;5;124m'\u001b[39m, \u001b[38;5;124m'\u001b[39m\u001b[38;5;124mC\u001b[39m\u001b[38;5;124m'\u001b[39m, \u001b[38;5;124m'\u001b[39m\u001b[38;5;124mU\u001b[39m\u001b[38;5;124m'\u001b[39m]:\n\u001b[1;32m----> 9\u001b[0m         \u001b[38;5;28;01mraise\u001b[39;00m \u001b[38;5;167;01mValueError\u001b[39;00m(\u001b[38;5;124m'\u001b[39m\u001b[38;5;124mSequence is non-canonical\u001b[39m\u001b[38;5;124m'\u001b[39m)\n\u001b[0;32m     11\u001b[0m \u001b[38;5;28;01mif\u001b[39;00m \u001b[38;5;124m'\u001b[39m\u001b[38;5;124mU\u001b[39m\u001b[38;5;124m'\u001b[39m \u001b[38;5;129;01min\u001b[39;00m dna_seq:\n\u001b[0;32m     12\u001b[0m     \u001b[38;5;28;01mraise\u001b[39;00m \u001b[38;5;167;01mValueError\u001b[39;00m(\u001b[38;5;124m'\u001b[39m\u001b[38;5;124mSequence is already an RNA sequence\u001b[39m\u001b[38;5;124m'\u001b[39m)\n",
      "\u001b[1;31mValueError\u001b[0m: Sequence is non-canonical"
     ]
    }
   ],
   "source": [
    "dna_rna('atgcaa#$%ccgga')"
   ]
  },
  {
   "cell_type": "code",
   "execution_count": 32,
   "id": "10e216d3",
   "metadata": {},
   "outputs": [
    {
     "ename": "ValueError",
     "evalue": "Sequence is already an RNA sequence",
     "output_type": "error",
     "traceback": [
      "\u001b[1;31m---------------------------------------------------------------------------\u001b[0m",
      "\u001b[1;31mValueError\u001b[0m                                Traceback (most recent call last)",
      "Cell \u001b[1;32mIn[32], line 1\u001b[0m\n\u001b[1;32m----> 1\u001b[0m dna_rna(\u001b[38;5;124m'\u001b[39m\u001b[38;5;124matgcaauuccgga\u001b[39m\u001b[38;5;124m'\u001b[39m)\n",
      "Cell \u001b[1;32mIn[28], line 12\u001b[0m, in \u001b[0;36mdna_rna\u001b[1;34m(dna_seq)\u001b[0m\n\u001b[0;32m      9\u001b[0m         \u001b[38;5;28;01mraise\u001b[39;00m \u001b[38;5;167;01mValueError\u001b[39;00m(\u001b[38;5;124m'\u001b[39m\u001b[38;5;124mSequence is non-canonical\u001b[39m\u001b[38;5;124m'\u001b[39m)\n\u001b[0;32m     11\u001b[0m \u001b[38;5;28;01mif\u001b[39;00m \u001b[38;5;124m'\u001b[39m\u001b[38;5;124mU\u001b[39m\u001b[38;5;124m'\u001b[39m \u001b[38;5;129;01min\u001b[39;00m dna_seq:\n\u001b[1;32m---> 12\u001b[0m     \u001b[38;5;28;01mraise\u001b[39;00m \u001b[38;5;167;01mValueError\u001b[39;00m(\u001b[38;5;124m'\u001b[39m\u001b[38;5;124mSequence is already an RNA sequence\u001b[39m\u001b[38;5;124m'\u001b[39m)\n\u001b[0;32m     13\u001b[0m     \u001b[38;5;28mprint\u001b[39m(dna_seq)\n\u001b[0;32m     15\u001b[0m \u001b[38;5;28;01melse\u001b[39;00m:\n",
      "\u001b[1;31mValueError\u001b[0m: Sequence is already an RNA sequence"
     ]
    }
   ],
   "source": [
    "dna_rna('atgcaauuccgga')"
   ]
  },
  {
   "cell_type": "markdown",
   "id": "3894c5cf-38ba-46df-aa76-91284170edda",
   "metadata": {},
   "source": [
    "## 1.3 Write a function that finds the amino acid sequence of a given RNA sequence"
   ]
  },
  {
   "cell_type": "code",
   "execution_count": 33,
   "id": "712f558c",
   "metadata": {},
   "outputs": [],
   "source": [
    "def rna_aa(rna_seq):\n",
    "    \n",
    "    codons = {\n",
    "        \"UUU\":\"F\", \"UUC\":\"F\", \"UUA\":\"L\", \"UUG\":\"L\",\n",
    "        \"UCU\":\"S\", \"UCC\":\"s\", \"UCA\":\"S\", \"UCG\":\"S\",\n",
    "        \"UAU\":\"Y\", \"UAC\":\"Y\", \"UAA\":\"*\", \"UAG\":\"*\",\n",
    "        \"UGU\":\"C\", \"UGC\":\"C\", \"UGA\":\"*\", \"UGG\":\"W\",\n",
    "        \"CUU\":\"L\", \"CUC\":\"L\", \"CUA\":\"L\", \"CUG\":\"L\",\n",
    "        \"CCU\":\"P\", \"CCC\":\"P\", \"CCA\":\"P\", \"CCG\":\"P\",\n",
    "        \"CAU\":\"H\", \"CAC\":\"H\", \"CAA\":\"Q\", \"CAG\":\"Q\",\n",
    "        \"CGU\":\"R\", \"CGC\":\"R\", \"CGA\":\"R\", \"CGG\":\"R\",\n",
    "        \"AUU\":\"I\", \"AUC\":\"I\", \"AUA\":\"I\", \"AUG\":\"M\",\n",
    "        \"ACU\":\"T\", \"ACC\":\"T\", \"ACA\":\"T\", \"ACG\":\"T\",\n",
    "        \"AAU\":\"N\", \"AAC\":\"N\", \"AAA\":\"K\", \"AAG\":\"K\",\n",
    "        \"AGU\":\"S\", \"AGC\":\"S\", \"AGA\":\"R\", \"AGG\":\"R\",\n",
    "        \"GUU\":\"V\", \"GUC\":\"V\", \"GUA\":\"V\", \"GUG\":\"V\",\n",
    "        \"GCU\":\"A\", \"GCC\":\"A\", \"GCA\":\"A\", \"GCG\":\"A\",\n",
    "        \"GAU\":\"D\", \"GAC\":\"D\", \"GAA\":\"E\", \"GAG\":\"E\",\n",
    "        \"GGU\":\"G\", \"GGC\":\"G\", \"GGA\":\"G\", \"GGG\":\"G\",\n",
    "        \"AUG\":\"M\" \n",
    "    }\n",
    "\n",
    "    aa_seq = '' # empty string for storing the amino acid sequence\n",
    "    start_translation = False\n",
    "\n",
    "    if len(rna_seq)%3 == 1:\n",
    "        seq_final= rna_seq[:-1]\n",
    "        \n",
    "    if len(rna_seq)%3 == 2:\n",
    "        seq_final= rna_seq[:-2]\n",
    "            \n",
    "    else:\n",
    "        seq_final = rna_seq\n",
    "\n",
    "    for i in range(0, len(seq_final), 3):\n",
    "        codon = seq_final[i:i+3]\n",
    "        \n",
    "        if start_translation:\n",
    "            if codon in codons:\n",
    "                aa = codons[codon]\n",
    "                if aa == \"*\":\n",
    "                    break\n",
    "                aa_seq += aa\n",
    "        elif codon == \"AUG\":\n",
    "            start_translation = True\n",
    "            aa = codons[codon]\n",
    "            aa_seq += aa\n",
    "            \n",
    "    return aa_seq"
   ]
  },
  {
   "cell_type": "code",
   "execution_count": 34,
   "id": "fa0cd7da",
   "metadata": {},
   "outputs": [],
   "source": [
    "a= rna_aa('AUGGUUGUC')"
   ]
  },
  {
   "cell_type": "code",
   "execution_count": 35,
   "id": "ebbb0bd3",
   "metadata": {},
   "outputs": [
    {
     "data": {
      "text/plain": [
       "'MVV'"
      ]
     },
     "execution_count": 35,
     "metadata": {},
     "output_type": "execute_result"
    }
   ],
   "source": [
    "a"
   ]
  },
  {
   "cell_type": "markdown",
   "id": "71b20380-906b-4a53-adf4-f0b43a0349e3",
   "metadata": {},
   "source": [
    "## 1.4 Tying it all together: Write a higher-order function that combines 1.1-1.3."
   ]
  },
  {
   "cell_type": "code",
   "execution_count": 36,
   "id": "4d88a10f-3598-4650-b87a-e35b7ec997a5",
   "metadata": {},
   "outputs": [],
   "source": [
    "def dna_aa(seq, direction= 'same'):\n",
    "    c_dna = dna_complementary(seq, direction= direction) #Calling all the above created functions for- complementary DNA , RNA from DNA and amino acid sequence from RNA\n",
    "    rna_seq = dna_rna(c_dna)\n",
    "    aa_seq = rna_aa(rna_seq)\n",
    "\n",
    "    print(\"c_DNA for given DNA sequence in direction= \" +direction+ \" is \" +c_dna)\n",
    "    print(\"The RNA sequence of the given DNA sequence is \"+rna_seq)\n",
    "    print(\"The protein sequence of the given DNA is \"  +aa_seq)\n",
    "    \n",
    "    if aa_seq!= \"\":\n",
    "        print(\"Protein sequence for given DNA is \"+ aa_seq)\n",
    "    else:\n",
    "        print(\"No start codon found to start the translation.\")\n",
    "    \n",
    "pass"
   ]
  },
  {
   "cell_type": "code",
   "execution_count": 37,
   "id": "f9779783",
   "metadata": {},
   "outputs": [
    {
     "name": "stdout",
     "output_type": "stream",
     "text": [
      "c_DNA for given DNA sequence in direction= same is ATGTGGATT\n",
      "The RNA sequence of the given DNA sequence is AUGUGGAUU\n",
      "The protein sequence of the given DNA is MWI\n",
      "Protein sequence for given DNA is MWI\n"
     ]
    }
   ],
   "source": [
    "dna_aa('TACACCTAA')"
   ]
  },
  {
   "cell_type": "markdown",
   "id": "41f727ac-8fa6-40e1-89e0-420254fc5b71",
   "metadata": {},
   "source": [
    "## 1.5 Protein annotator"
   ]
  },
  {
   "cell_type": "code",
   "execution_count": 38,
   "id": "9bc0c705",
   "metadata": {},
   "outputs": [
    {
     "name": "stdout",
     "output_type": "stream",
     "text": [
      "Requirement already satisfied: minotaor in c:\\users\\singh\\anaconda3\\lib\\site-packages (0.2.1)\n",
      "Requirement already satisfied: pandas in c:\\users\\singh\\anaconda3\\lib\\site-packages (from minotaor) (1.5.3)\n",
      "Requirement already satisfied: biopython in c:\\users\\singh\\anaconda3\\lib\\site-packages (from minotaor) (1.81)\n",
      "Requirement already satisfied: numpy in c:\\users\\singh\\anaconda3\\lib\\site-packages (from biopython->minotaor) (1.24.3)\n",
      "Requirement already satisfied: python-dateutil>=2.8.1 in c:\\users\\singh\\anaconda3\\lib\\site-packages (from pandas->minotaor) (2.8.2)\n",
      "Requirement already satisfied: pytz>=2020.1 in c:\\users\\singh\\anaconda3\\lib\\site-packages (from pandas->minotaor) (2022.7)\n",
      "Requirement already satisfied: six>=1.5 in c:\\users\\singh\\anaconda3\\lib\\site-packages (from python-dateutil>=2.8.1->pandas->minotaor) (1.16.0)\n",
      "Note: you may need to restart the kernel to use updated packages.\n"
     ]
    }
   ],
   "source": [
    "pip install minotaor"
   ]
  },
  {
   "cell_type": "code",
   "execution_count": 39,
   "id": "ad164a1c",
   "metadata": {},
   "outputs": [
    {
     "name": "stdout",
     "output_type": "stream",
     "text": [
      "Requirement already satisfied: dna_features_viewer in c:\\users\\singh\\anaconda3\\lib\\site-packages (3.1.2)\n",
      "Requirement already satisfied: matplotlib>=3 in c:\\users\\singh\\anaconda3\\lib\\site-packages (from dna_features_viewer) (3.7.1)\n",
      "Requirement already satisfied: Biopython in c:\\users\\singh\\anaconda3\\lib\\site-packages (from dna_features_viewer) (1.81)\n",
      "Requirement already satisfied: packaging in c:\\users\\singh\\anaconda3\\lib\\site-packages (from dna_features_viewer) (23.0)\n",
      "Requirement already satisfied: contourpy>=1.0.1 in c:\\users\\singh\\anaconda3\\lib\\site-packages (from matplotlib>=3->dna_features_viewer) (1.0.5)\n",
      "Requirement already satisfied: cycler>=0.10 in c:\\users\\singh\\anaconda3\\lib\\site-packages (from matplotlib>=3->dna_features_viewer) (0.11.0)\n",
      "Requirement already satisfied: fonttools>=4.22.0 in c:\\users\\singh\\anaconda3\\lib\\site-packages (from matplotlib>=3->dna_features_viewer) (4.25.0)\n",
      "Requirement already satisfied: kiwisolver>=1.0.1 in c:\\users\\singh\\anaconda3\\lib\\site-packages (from matplotlib>=3->dna_features_viewer) (1.4.4)\n",
      "Requirement already satisfied: numpy>=1.20 in c:\\users\\singh\\anaconda3\\lib\\site-packages (from matplotlib>=3->dna_features_viewer) (1.24.3)\n",
      "Requirement already satisfied: pillow>=6.2.0 in c:\\users\\singh\\anaconda3\\lib\\site-packages (from matplotlib>=3->dna_features_viewer) (9.4.0)\n",
      "Requirement already satisfied: pyparsing>=2.3.1 in c:\\users\\singh\\anaconda3\\lib\\site-packages (from matplotlib>=3->dna_features_viewer) (3.0.9)\n",
      "Requirement already satisfied: python-dateutil>=2.7 in c:\\users\\singh\\anaconda3\\lib\\site-packages (from matplotlib>=3->dna_features_viewer) (2.8.2)\n",
      "Requirement already satisfied: six>=1.5 in c:\\users\\singh\\anaconda3\\lib\\site-packages (from python-dateutil>=2.7->matplotlib>=3->dna_features_viewer) (1.16.0)\n",
      "Note: you may need to restart the kernel to use updated packages.\n"
     ]
    }
   ],
   "source": [
    "pip install dna_features_viewer"
   ]
  },
  {
   "cell_type": "code",
   "execution_count": 40,
   "id": "85c58d81-1850-47ef-810f-d17893402824",
   "metadata": {},
   "outputs": [],
   "source": [
    "import minotaor\n",
    "from Bio.Seq import Seq\n",
    "from Bio.SeqRecord import SeqRecord\n",
    "\n",
    "# Replace the sequence with your own sequence\n",
    "protein = Seq(\"MIRLGAPQSLVLLTLLVAAVLRCQGQDVRQPGPKGQKGEPGDIKDIVGPKGPPGPQGPAGEQGPRGDRGDKGEKGAPGPRGRDGEPGTPGNPGPPGPPGPPGPPGLGGNFAAQMAGGFDEKAGGAQLGVMQGPMGPMGPRGPPGPAGAPGPQGFQGNPGEPGEPGVSGPMGPRGPPGPPGKPGDDGEAGKPGKAGERGPPGPQGARGFPGTPGLPGVKGHRGYPGLDGAKGEAGAPGVKGESGSPGENGSPGPMGPRGLPGERGRTGPAGAAGARGNDGQPGPAGPPGPVGPAGGPGFPGAPGAKGEAGPTGARGPEGAQGPRGEPGTPGSPGPAGASGNPGTDGIPGAKGSAGAPGIAGAPGFPGPRGPPGPQGATGPLGPKGQTGEPGIAGFKGEQGPKGEPGPAGPQGAPGPAGEEGKRGARGEPGGVGPIGPPGERGAPGNRGFPGQDGLAGPKGAPGERGPSGLAGPKGANGDPGRPGEPGLPGARGLTGRPGDAGPQGKVGPSGAPGEDGRPGPPGPQGARGQPGVMGFPGPKGANGEPGKAGEKGLPGAPGLRGLPGKDGETGAAGPPGPAGPAGERGEQGAPGPSGFQGLPGPPGPPGEGGKPGDQGVPGEAGAPGLVGPRGERGFPGERGSPGAQGLQGPRGLPGTPGTDGPKGASGPAGPPGAQGPPGLQGMPGERGAAGIAGPKGDRGDVGEKGPEGAPGKDGGRGLTGPIGPPGPAGANGEKGEVGPPGPAGSAGARGAPGERGETGPPGPAGFAGPPGADGQPGAKGEQGEAGQKGDAGAPGPQGPSGAPGPQGPTGVTGPKGARGAQGPPGATGFPGAAGRVGPPGSNGNPGPPGPPGPSGKDGPKGARGDSGPPGRAGEPGLQGPAGPPGEKGEPGDDGPSGAEGPPGPQGLAGQRGIVGLPGQRGERGFPGLPGPSGEPGKQGAPGASGDRGPPGPVGPPGLTGPAGEPGRQGSPGADGPPGRDGAAGVKGDRGETGAVGAPGTPGPPGSPGPAGPTGKQGDRGEAGAQGPMGPSGPAGARGIQGPQGPRGDKGEAGEPGERGLKGHRGFTGLQGLPGPPGPSGDQGASGPAGPSGPRGPPGPVGPSGKDGANGIPGPIGPPGPRGRSGETGPAGPPGNPGPPGPPGPPGPGIDMSAFAGLGPR\")\n",
    "protein_record = SeqRecord(protein, id=\"human collagen\", annotations={\"molecule_type\": \"protein\"})\n",
    "\n",
    "protein_record = minotaor.annotate_record(protein_record)  # search is case sensitive"
   ]
  },
  {
   "cell_type": "code",
   "execution_count": 41,
   "id": "f1fe9ae5-0af3-49b8-9d1d-5abd8007ea60",
   "metadata": {},
   "outputs": [
    {
     "data": {
      "text/plain": [
       "SeqRecord(seq=Seq('MIRLGAPQSLVLLTLLVAAVLRCQGQDVRQPGPKGQKGEPGDIKDIVGPKGPPG...GPR'), id='human collagen', name='<unknown name>', description='<unknown description>', dbxrefs=[])"
      ]
     },
     "execution_count": 41,
     "metadata": {},
     "output_type": "execute_result"
    }
   ],
   "source": [
    "protein_record"
   ]
  },
  {
   "cell_type": "code",
   "execution_count": 42,
   "id": "52ef5ec7-bb51-4c7c-b3f8-802c25c73cab",
   "metadata": {},
   "outputs": [
    {
     "data": {
      "image/png": "[encoded data removed]",
      "text/plain": [
       "<Figure size 1000x700 with 1 Axes>"
      ]
     },
     "metadata": {},
     "output_type": "display_data"
    }
   ],
   "source": [
    "graphic_record = minotaor.MinotaorTranslator().translate_record(protein_record)\n",
    "ax, _ = graphic_record.plot(figure_width=10, strand_in_label_threshold=7)\n",
    "graphic_record.plot_sequence(ax)"
   ]
  },
  {
   "cell_type": "markdown",
   "id": "c4369aa8",
   "metadata": {},
   "source": [
    "- The protein sequence annotated here is of Human Collagen COL2A1, partial [Homo sapiens]. \n",
    "- I can observe that the sequence is 1160 AA long protein. Since it is a partial sequence for A1 domain of the protein structure, there is no stop codon in the sequence. \n",
    "- There are various start codons and pause sites in the sequence.  "
   ]
  },
  {
   "cell_type": "markdown",
   "id": "6bafe9c4-3188-427b-a82a-5e36eaefddd5",
   "metadata": {},
   "source": [
    "# Task 2: Wrapping it all together with raw data"
   ]
  },
  {
   "cell_type": "markdown",
   "id": "7bed74b2-8ce6-47e5-a346-0be124647b17",
   "metadata": {},
   "source": [
    "2.1 Write a function that reads the fastq file and extracts all sequences that have a quality scores above Q10."
   ]
  },
  {
   "cell_type": "code",
   "execution_count": 43,
   "id": "bf5fbafa-0227-471a-8410-5319008175c6",
   "metadata": {},
   "outputs": [],
   "source": [
    "def extract_seqs(fasta_file_path):\n",
    "    ids = []\n",
    "    seq = []\n",
    "    bases = ['A', 'T', 'G', 'C']\n",
    "    with open (fasta_file_path , 'r') as input_file:\n",
    "        while True:\n",
    "            id_ind = input_file.readline().strip()\n",
    "            sequence = input_file.readline().strip()\n",
    "            plus = input_file.readline().strip()\n",
    "            quality = input_file.readline().strip()\n",
    "            \n",
    "            if not id_ind:\n",
    "                break\n",
    "            \n",
    "            # Calculate the average quality score\n",
    "            average_quality = sum(ord(q) - 33 for q in quality) / len(quality)\n",
    "            \n",
    "            if average_quality > 10 and all([i in bases for i in sequence]):\n",
    "                ids.append(id_ind)\n",
    "                seq.append(sequence)                              \n",
    "    return(dict(map(lambda i,j : (i,j) ,ids,seq)))\n",
    "pass"
   ]
  },
  {
   "cell_type": "code",
   "execution_count": 44,
   "id": "b7c8fe11",
   "metadata": {},
   "outputs": [],
   "source": [
    "x= extract_seqs('sample10000.fastq')"
   ]
  },
  {
   "cell_type": "code",
   "execution_count": 67,
   "id": "eae5e368-def6-41a6-974e-f37c86fb7ce3",
   "metadata": {},
   "outputs": [],
   "source": [
    "class Genome:\n",
    "    \"\"\"\n",
    "    Read, store, and analyze the contents of a genome from a FASTA file\n",
    "    \"\"\"\n",
    "    def __init__(self, filepath):\n",
    "        self.filepath = filepath\n",
    "        self.dna_seqs = None\n",
    "        self.dna_complementary_seqs = None\n",
    "        self.rna_seqs = None\n",
    "        self.aa_seqs = None\n",
    "    \n",
    "    # UPDATE THE FOLLOWING FUNCTIONS TO POPULATE THE ABOVE PROPERTIES\n",
    "    def extract_seqs(self):\n",
    "        self.dna_seqs = extract_seqs(self.filepath)\n",
    "        return self.dna_seqs\n",
    "        pass\n",
    "    \n",
    "    def complementary_seqs(self):\n",
    "        if self.dna_seqs==None:\n",
    "            raise ValueError(\"There are no sequences to find complementary of.\")    \n",
    "        else:\n",
    "            complementary = []\n",
    "            for seq in self.dna_seqs.values():\n",
    "                complementary.append(dna_complementary(seq))\n",
    "            self.dna_complementary_seqs = dict(map(lambda i,j : (i,j) ,self.dna_seqs.keys(),complementary))\n",
    "            return self.dna_complementary_seqs \n",
    "        pass\n",
    "\n",
    "    def dna_rna(self):\n",
    "        if self.dna_complementary_seqs==None:\n",
    "            raise ValueError(\"There are no sequences to find corresponding RNA sequence of.\")    \n",
    "        else:\n",
    "            RNA = []\n",
    "            for seq in self.dna_complementary_seqs.values():\n",
    "                RNA.append(dna_rna(seq))\n",
    "            self.rna_seqs = dict(map(lambda i,j : (i,j) ,self.dna_complementary_seqs.keys(),RNA))\n",
    "        return self.rna_seqs\n",
    "        pass\n",
    "    \n",
    "    def aa_seqs_func(self):\n",
    "        if self.rna_seqs==None:\n",
    "            raise ValueError(\"There are no sequences to translate to Protein.\")    \n",
    "        else:\n",
    "            aa = []\n",
    "            for seq in self.rna_seqs.values():\n",
    "                aa.append(rna_aa(seq))\n",
    "            self.aa_seqs = dict(map(lambda i,j : (i,j) ,self.rna_seqs.keys(),aa))\n",
    "        return self.aa_seqs\n",
    "        \n",
    "\n",
    "    def annot_aa_plot(self, seqid):\n",
    "        if self.aa_seqs==None or self.aa_seqs[seqid]=='':\n",
    "            raise ValueError(\"There are no Proteins to display the annotated plot of.\")\n",
    "        else:\n",
    "            protein = Seq(self.aa_seqs[seqid])\n",
    "            protein_record = SeqRecord(protein, id=\"example\", annotations={\"molecule_type\": \"protein\"})\n",
    "            protein_record = minotaor.annotate_record(protein_record)\n",
    "            graphic_record = minotaor.MinotaorTranslator().translate_record(protein_record)\n",
    "            ax, _ = graphic_record.plot(figure_width=20, strand_in_label_threshold=7)\n",
    "            graphic_record.plot_sequence(ax)\n",
    "        return graphic_record.plot_sequence(ax)\n",
    "        pass"
   ]
  },
  {
   "cell_type": "code",
   "execution_count": 68,
   "id": "57d22d71",
   "metadata": {},
   "outputs": [],
   "source": [
    "a = Genome('sample10000.fastq')"
   ]
  },
  {
   "cell_type": "code",
   "execution_count": 69,
   "id": "de54b8a3",
   "metadata": {},
   "outputs": [],
   "source": [
    "b = a.extract_seqs()"
   ]
  },
  {
   "cell_type": "code",
   "execution_count": 70,
   "id": "a4d37a58",
   "metadata": {},
   "outputs": [],
   "source": [
    "c = a.complementary_seqs()"
   ]
  },
  {
   "cell_type": "code",
   "execution_count": 71,
   "id": "34ae7b16",
   "metadata": {},
   "outputs": [],
   "source": [
    "d = a.dna_rna()"
   ]
  },
  {
   "cell_type": "code",
   "execution_count": 73,
   "id": "ca9a89f7",
   "metadata": {},
   "outputs": [],
   "source": [
    "e = a.aa_seqs_func()"
   ]
  },
  {
   "cell_type": "code",
   "execution_count": 77,
   "id": "5fec3afa",
   "metadata": {},
   "outputs": [
    {
     "data": {
      "image/png": "[encoded data removed]",
      "text/plain": [
       "<Figure size 2000x220 with 1 Axes>"
      ]
     },
     "metadata": {},
     "output_type": "display_data"
    }
   ],
   "source": [
    "a.annot_aa_plot('@ERR016162.18612616 I354_1:1:62:12043:8728/2')"
   ]
  }
 ],
 "metadata": {
  "kernelspec": {
   "display_name": "Python 3 (ipykernel)",
   "language": "python",
   "name": "python3"
  },
  "language_info": {
   "codemirror_mode": {
    "name": "ipython",
    "version": 3
   },
   "file_extension": ".py",
   "mimetype": "text/x-python",
   "name": "python",
   "nbconvert_exporter": "python",
   "pygments_lexer": "ipython3",
   "version": "3.11.5"
  }
 },
 "nbformat": 4,
 "nbformat_minor": 5
}
